{
 "cells": [
  {
   "cell_type": "markdown",
   "id": "519efcaa-84ef-4190-bfba-df893f7be5bd",
   "metadata": {},
   "source": [
    "# 2.教師あり学習\n",
    "教師あり学習は，最もよく用いられ，そしてうまく機能しているタイプの機械学習だ，本章では教師有学習について詳しく述べ，いくつかのよく使われる教師有学習アルゴリズムについて説明する．本章では教師有学習について詳しく述べ，いくつかのよく使われる教師あり学習アルゴリズムについて説明する，"
   ]
  },
  {
   "cell_type": "markdown",
   "id": "2fedcf0d-5385-4bb2-ac9d-775009536a50",
   "metadata": {},
   "source": [
    "## 2.1 クラス分類と回帰\n",
    "- 教師あり機械学習問題\n",
    "    - **クラス分類** あらかじめ定められた選択肢の中から**クラスラベル**を予測すること\n",
    "        - **２クラス分類** ２つだけのクラスを分類する特殊ケース（答えがyes/no）\n",
    "        - **多クラス分類** ３つ以上のクラスを分類する問題（アイリス，Webサイトのテキストから，そのWebサイトの使用している言語を予測する問題）\n",
    "    - **回帰** 目的は連続値の予測．（ある人の年収を学歴と年齢と住所から予測する/トウモロコシ農家の収穫量を，前年の収穫量，天候，従業員数から予測する）\n",
    " \n",
    "クラス分類問題と回帰分類問題を区別するには，出力に何らかの連続性があるかを考えてみればよい．出力に連続性があるなら回帰問題である．"
   ]
  },
  {
   "cell_type": "markdown",
   "id": "0e37ba84-4efe-4712-9fca-c2944fb008db",
   "metadata": {},
   "source": [
    "## 2.3 教師あり機械学習アルゴリズム"
   ]
  },
  {
   "cell_type": "markdown",
   "id": "95023b5b",
   "metadata": {},
   "source": [
    "### 2.3.1 サンプルデータセット\n",
    "[2_3_1__1_サンプルデータ](./2_3_1__1_サンプルデータ.ipynb)  \n",
    "[2_3_1__2_ウィスコンシン乳がんデータセット](./2_3_1__2_ウィスコンシン乳がんデータセット.ipynb)  \n",
    "### 2.3.2 k-最近傍法  \n",
    "[2_3_2__1_k-最近傍法](./2_3_2__1_k-最近傍法.ipynb)  \n",
    "[2_3_2__2_scikit-learnを用いて](./2_3_2__2_scikit-learnを用いて.ipynb)  \n",
    "[2_3_2__3_実際のcancerデータセット](./2_3_2__3_実際のcancerデータセット.ipynb)  \n",
    "### 2.3.3 線形モデル  \n",
    "[2_3_3__1_線形モデルによる回帰](./2_3_3__1_線形モデルによる回帰.ipynb)  "
   ]
  }
 ],
 "metadata": {
  "kernelspec": {
   "display_name": "Python 3 (ipykernel)",
   "language": "python",
   "name": "python3"
  },
  "language_info": {
   "codemirror_mode": {
    "name": "ipython",
    "version": 3
   },
   "file_extension": ".py",
   "mimetype": "text/x-python",
   "name": "python",
   "nbconvert_exporter": "python",
   "pygments_lexer": "ipython3",
   "version": "3.12.5"
  },
  "toc": {
   "base_numbering": 1,
   "nav_menu": {},
   "number_sections": true,
   "sideBar": true,
   "skip_h1_title": false,
   "title_cell": "Table of Contents",
   "title_sidebar": "Contents",
   "toc_cell": false,
   "toc_position": {},
   "toc_section_display": true,
   "toc_window_display": false
  }
 },
 "nbformat": 4,
 "nbformat_minor": 5
}
