{
 "cells": [
  {
   "cell_type": "markdown",
   "metadata": {},
   "source": [
    "#### 2.3.6.2 勾配ブースティング回帰"
   ]
  },
  {
   "cell_type": "markdown",
   "metadata": {},
   "source": [
    "勾配ブースティング回帰木は、複数の決定木を組み合わせてより強力なモデルを提案するもう一つのアンサンブル手法である。名前に「回帰」をついているが、このモデルは回帰にもクラス分類にも利用できる。ランダムフォレストと対照的に、勾配ブースティングでは、１つの前の決定木誤りを次の決定木が修正するようにして、決定木を順番に作っていく。"
   ]
  }
 ],
 "metadata": {
  "kernelspec": {
   "display_name": "machine_learning_oreilly",
   "language": "python",
   "name": "python3"
  },
  "language_info": {
   "name": "python",
   "version": "3.12.5"
  }
 },
 "nbformat": 4,
 "nbformat_minor": 2
}
