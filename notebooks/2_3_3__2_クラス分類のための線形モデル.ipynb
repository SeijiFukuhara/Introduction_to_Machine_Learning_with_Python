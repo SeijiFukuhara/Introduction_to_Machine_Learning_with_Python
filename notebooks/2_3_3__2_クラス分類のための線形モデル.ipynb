{
 "cells": [
  {
   "cell_type": "markdown",
   "metadata": {},
   "source": [
    "|クラス分類のための線形モデル|\n",
    "|:-|"
   ]
  },
  {
   "cell_type": "markdown",
   "metadata": {},
   "source": [
    "線形モデルはクラス分類にも多用されている。まず、２クラス分類を見てみよう。この場合は、次の式で予測を行う。$$\\hat{y}=w[0] \\times x[0] + w[1] \\times x[1]+ \\cdots + w[p] \\times x[p] + b > 0$$"
   ]
  },
  {
   "cell_type": "markdown",
   "metadata": {},
   "source": [
    "この式は、線形回帰のバイトよく似ているが、特徴量の重み付き和を単に返すのではなく、予測された値が0を請えるかどうかで分割している。この関数の値が0より小さければ、クラスは-1になる。0より大きければ、クラスは+1になる。この予測のルールはすべての線形モデルによるクラス分類に共通している。ここでも、係数（$w$）と切片（$b$）を求めるには様々な方法がある。"
   ]
  },
  {
   "cell_type": "markdown",
   "metadata": {},
   "source": [
    "線形モデルによるクラス分類では、**決定境界**が入力の線形関数になる。言い換えると線形の２クラス分類器は、２つのクラスを直線や平面や超平面で分割するということだ。本節でこの例を示す。\n"
   ]
  },
  {
   "cell_type": "markdown",
   "metadata": {},
   "source": [
    "線形モデルを学習するにはさまざまなアルゴリズムがある。これらのアルゴリズムは以下の２点で区別される。\n",
    "- 係数と切片の特定の組み合わせと訓練データの適合度を測る尺度\n",
    "- 正規化を行うか。行うならどの方法を使うか。"
   ]
  },
  {
   "cell_type": "markdown",
   "metadata": {},
   "source": [
    "「訓練データへの適合度」を測る尺度は、アルゴリズムによって異なる。linear_model.LogisticRegressionに実装されている**ロジスティック回帰**はと、svm.LineatSVCに実装されている**線形サポートベクターマシン**は、最も一般的な線形クラス分類アルゴリズムだ。LogisticRegressionモデルとLinearSVCモデルをforgeデータセットに適用して、決定境界を可視化してみよう。"
   ]
  },
  {
   "cell_type": "code",
   "execution_count": null,
   "metadata": {
    "vscode": {
     "languageId": "plaintext"
    }
   },
   "outputs": [],
   "source": []
  },
  {
   "cell_type": "code",
   "execution_count": null,
   "metadata": {
    "vscode": {
     "languageId": "plaintext"
    }
   },
   "outputs": [],
   "source": []
  },
  {
   "cell_type": "code",
   "execution_count": null,
   "metadata": {
    "vscode": {
     "languageId": "plaintext"
    }
   },
   "outputs": [],
   "source": []
  },
  {
   "cell_type": "code",
   "execution_count": null,
   "metadata": {
    "vscode": {
     "languageId": "plaintext"
    }
   },
   "outputs": [],
   "source": []
  }
 ],
 "metadata": {
  "language_info": {
   "name": "python"
  }
 },
 "nbformat": 4,
 "nbformat_minor": 2
}
